{
 "cells": [
  {
   "cell_type": "markdown",
   "metadata": {
    "deletable": true,
    "editable": true
   },
   "source": [
    "Import section"
   ]
  },
  {
   "cell_type": "code",
   "execution_count": 1,
   "metadata": {
    "collapsed": false,
    "deletable": true,
    "editable": true
   },
   "outputs": [
    {
     "name": "stderr",
     "output_type": "stream",
     "text": [
      "Using TensorFlow backend.\n"
     ]
    }
   ],
   "source": [
    "import tensorflow as tf\n",
    "import cv2\n",
    "from matplotlib import pyplot as plt\n",
    "import glob\n",
    "import os\n",
    "import random\n",
    "from random import randint\n",
    "import math\n",
    "import numpy as np\n",
    "import keras\n",
    "from keras import backend as K\n",
    "from tensorflow.python.framework import graph_util\n",
    "from tensorflow.python.framework import graph_io\n",
    "from keras.models import load_model\n",
    "from keras.models import Model, Sequential\n",
    "from keras.layers import Dense, Flatten, Dropout, Input, GlobalAveragePooling2D\n",
    "from keras.layers import Conv2D, MaxPooling2D, Activation, Lambda, concatenate, ELU\n",
    "from keras.callbacks import ModelCheckpoint, EarlyStopping, Callback\n",
    "from keras import optimizers\n",
    "from keras.optimizers import Adam\n",
    "from keras.preprocessing.image import ImageDataGenerator\n",
    "\n",
    "# This is needed to display the images.\n",
    "%matplotlib inline"
   ]
  },
  {
   "cell_type": "markdown",
   "metadata": {
    "deletable": true,
    "editable": true
   },
   "source": [
    "Load traffic light dataset from files and shuffle it"
   ]
  },
  {
   "cell_type": "code",
   "execution_count": 2,
   "metadata": {
    "collapsed": false,
    "deletable": true,
    "editable": true
   },
   "outputs": [],
   "source": [
    "image_types = [\"red\", \"green\", \"yellow\"]\n",
    "input_img_x = 32\n",
    "input_img_y = 32\n",
    "\n",
    "full_set = []\n",
    "for im_type in image_types:\n",
    "    for ex in glob.glob(os.path.join(\"dataset/\", im_type, \"*\")):\n",
    "        im = cv2.imread(ex)\n",
    "        if not im is None:\n",
    "            # Resize image\n",
    "            im = cv2.resize(im, (input_img_x, input_img_y))\n",
    "\n",
    "            # Convert to RGB\n",
    "            im = cv2.cvtColor(im, cv2.COLOR_BGR2RGB) \n",
    "            \n",
    "            # Create an array representing our classes and set it\n",
    "            one_hot_array = [0] * len(image_types)\n",
    "            one_hot_array[image_types.index(im_type)] = 1\n",
    "            assert(im.shape == (input_img_x, input_img_y, 3))\n",
    "\n",
    "            # Add it to our set\n",
    "            full_set.append((im, one_hot_array, ex))\n",
    "\n",
    "# Shuffle the data\n",
    "random.shuffle(full_set)"
   ]
  },
  {
   "cell_type": "markdown",
   "metadata": {
    "deletable": true,
    "editable": true
   },
   "source": [
    "Create train / validation set with predefined split"
   ]
  },
  {
   "cell_type": "code",
   "execution_count": 3,
   "metadata": {
    "collapsed": false,
    "deletable": true,
    "editable": true
   },
   "outputs": [
    {
     "name": "stdout",
     "output_type": "stream",
     "text": [
      "Training samples: 1600\n",
      "Test samples: 160\n"
     ]
    }
   ],
   "source": [
    "# Define split and batch size\n",
    "train_test_split_ratio = 0.9\n",
    "batch_size = 32\n",
    "\n",
    "# We split our data into a training and test set here\n",
    "split_index = int(math.floor(len(full_set) * train_test_split_ratio))\n",
    "train_set = full_set[:split_index]\n",
    "test_set = full_set[split_index:]\n",
    "\n",
    "# We ensure that our training and test sets are a multiple of batch size\n",
    "train_set_offset = len(train_set) % batch_size\n",
    "test_set_offset = len(test_set) % batch_size\n",
    "train_set = train_set[: len(train_set) - train_set_offset]\n",
    "test_set = test_set[: len(test_set) - test_set_offset]\n",
    "\n",
    "# Split\n",
    "train_x, train_y, train_z = zip(*train_set)\n",
    "test_x, test_y, test_z = zip(*test_set)\n",
    "\n",
    "# Convert to numpy array\n",
    "train_x = np.array(train_x)\n",
    "train_y = np.array(train_y)\n",
    "test_x = np.array(test_x)\n",
    "test_y = np.array(test_y)\n",
    "print(\"Training samples: {}\".format(len(train_y)))\n",
    "print(\"Test samples: {}\".format(len(test_y)))"
   ]
  },
  {
   "cell_type": "markdown",
   "metadata": {
    "deletable": true,
    "editable": true
   },
   "source": [
    "Calc class weights, because we have less yellow images than red/green"
   ]
  },
  {
   "cell_type": "code",
   "execution_count": 4,
   "metadata": {
    "collapsed": false,
    "deletable": true,
    "editable": true
   },
   "outputs": [
    {
     "name": "stdout",
     "output_type": "stream",
     "text": [
      "{0: 1.0, 1: 1.4867549668874172, 2: 9.16326530612245}\n"
     ]
    }
   ],
   "source": [
    "def get_class_weights(y):\n",
    "    unique, counts = np.unique(y, return_counts=True)\n",
    "    majority = max(counts)\n",
    "    return  {cls: float(majority/count) for cls, count in zip(unique, counts)}\n",
    "\n",
    "train_y_dec = np.argmax(train_y, axis=1)\n",
    "class_weights = get_class_weights(train_y_dec)\n",
    "print(class_weights)"
   ]
  },
  {
   "cell_type": "markdown",
   "metadata": {
    "deletable": true,
    "editable": true
   },
   "source": [
    "Define our modified SqueezeNet model here"
   ]
  },
  {
   "cell_type": "code",
   "execution_count": 5,
   "metadata": {
    "collapsed": false,
    "deletable": true,
    "editable": true
   },
   "outputs": [
    {
     "name": "stdout",
     "output_type": "stream",
     "text": [
      "____________________________________________________________________________________________________\n",
      "Layer (type)                     Output Shape          Param #     Connected to                     \n",
      "====================================================================================================\n",
      "input_1 (InputLayer)             (None, 32, 32, 3)     0                                            \n",
      "____________________________________________________________________________________________________\n",
      "lambda_1 (Lambda)                (None, 32, 32, 3)     0           input_1[0][0]                    \n",
      "____________________________________________________________________________________________________\n",
      "fire1/squeeze1x1 (Conv2D)        (None, 32, 32, 16)    64          lambda_1[0][0]                   \n",
      "____________________________________________________________________________________________________\n",
      "fire1/elu_squeeze1x1 (Activation (None, 32, 32, 16)    0           fire1/squeeze1x1[0][0]           \n",
      "____________________________________________________________________________________________________\n",
      "fire1/expand1x1 (Conv2D)         (None, 32, 32, 64)    1088        fire1/elu_squeeze1x1[0][0]       \n",
      "____________________________________________________________________________________________________\n",
      "fire1/expand3x3 (Conv2D)         (None, 32, 32, 64)    9280        fire1/elu_squeeze1x1[0][0]       \n",
      "____________________________________________________________________________________________________\n",
      "fire1/elu_expand1x1 (Activation) (None, 32, 32, 64)    0           fire1/expand1x1[0][0]            \n",
      "____________________________________________________________________________________________________\n",
      "fire1/elu_expand3x3 (Activation) (None, 32, 32, 64)    0           fire1/expand3x3[0][0]            \n",
      "____________________________________________________________________________________________________\n",
      "fire1/concat (Concatenate)       (None, 32, 32, 128)   0           fire1/elu_expand1x1[0][0]        \n",
      "                                                                   fire1/elu_expand3x3[0][0]        \n",
      "____________________________________________________________________________________________________\n",
      "fire2/squeeze1x1 (Conv2D)        (None, 32, 32, 16)    2064        fire1/concat[0][0]               \n",
      "____________________________________________________________________________________________________\n",
      "fire2/elu_squeeze1x1 (Activation (None, 32, 32, 16)    0           fire2/squeeze1x1[0][0]           \n",
      "____________________________________________________________________________________________________\n",
      "fire2/expand1x1 (Conv2D)         (None, 32, 32, 64)    1088        fire2/elu_squeeze1x1[0][0]       \n",
      "____________________________________________________________________________________________________\n",
      "fire2/expand3x3 (Conv2D)         (None, 32, 32, 64)    9280        fire2/elu_squeeze1x1[0][0]       \n",
      "____________________________________________________________________________________________________\n",
      "fire2/elu_expand1x1 (Activation) (None, 32, 32, 64)    0           fire2/expand1x1[0][0]            \n",
      "____________________________________________________________________________________________________\n",
      "fire2/elu_expand3x3 (Activation) (None, 32, 32, 64)    0           fire2/expand3x3[0][0]            \n",
      "____________________________________________________________________________________________________\n",
      "fire2/concat (Concatenate)       (None, 32, 32, 128)   0           fire2/elu_expand1x1[0][0]        \n",
      "                                                                   fire2/elu_expand3x3[0][0]        \n",
      "____________________________________________________________________________________________________\n",
      "max_pooling2d_1 (MaxPooling2D)   (None, 15, 15, 128)   0           fire2/concat[0][0]               \n",
      "____________________________________________________________________________________________________\n",
      "fire3/squeeze1x1 (Conv2D)        (None, 15, 15, 32)    4128        max_pooling2d_1[0][0]            \n",
      "____________________________________________________________________________________________________\n",
      "fire3/elu_squeeze1x1 (Activation (None, 15, 15, 32)    0           fire3/squeeze1x1[0][0]           \n",
      "____________________________________________________________________________________________________\n",
      "fire3/expand1x1 (Conv2D)         (None, 15, 15, 128)   4224        fire3/elu_squeeze1x1[0][0]       \n",
      "____________________________________________________________________________________________________\n",
      "fire3/expand3x3 (Conv2D)         (None, 15, 15, 128)   36992       fire3/elu_squeeze1x1[0][0]       \n",
      "____________________________________________________________________________________________________\n",
      "fire3/elu_expand1x1 (Activation) (None, 15, 15, 128)   0           fire3/expand1x1[0][0]            \n",
      "____________________________________________________________________________________________________\n",
      "fire3/elu_expand3x3 (Activation) (None, 15, 15, 128)   0           fire3/expand3x3[0][0]            \n",
      "____________________________________________________________________________________________________\n",
      "fire3/concat (Concatenate)       (None, 15, 15, 256)   0           fire3/elu_expand1x1[0][0]        \n",
      "                                                                   fire3/elu_expand3x3[0][0]        \n",
      "____________________________________________________________________________________________________\n",
      "fire4/squeeze1x1 (Conv2D)        (None, 15, 15, 32)    8224        fire3/concat[0][0]               \n",
      "____________________________________________________________________________________________________\n",
      "fire4/elu_squeeze1x1 (Activation (None, 15, 15, 32)    0           fire4/squeeze1x1[0][0]           \n",
      "____________________________________________________________________________________________________\n",
      "fire4/expand1x1 (Conv2D)         (None, 15, 15, 128)   4224        fire4/elu_squeeze1x1[0][0]       \n",
      "____________________________________________________________________________________________________\n",
      "fire4/expand3x3 (Conv2D)         (None, 15, 15, 128)   36992       fire4/elu_squeeze1x1[0][0]       \n",
      "____________________________________________________________________________________________________\n",
      "fire4/elu_expand1x1 (Activation) (None, 15, 15, 128)   0           fire4/expand1x1[0][0]            \n",
      "____________________________________________________________________________________________________\n",
      "fire4/elu_expand3x3 (Activation) (None, 15, 15, 128)   0           fire4/expand3x3[0][0]            \n",
      "____________________________________________________________________________________________________\n",
      "fire4/concat (Concatenate)       (None, 15, 15, 256)   0           fire4/elu_expand1x1[0][0]        \n",
      "                                                                   fire4/elu_expand3x3[0][0]        \n",
      "____________________________________________________________________________________________________\n",
      "max_pooling2d_2 (MaxPooling2D)   (None, 7, 7, 256)     0           fire4/concat[0][0]               \n",
      "____________________________________________________________________________________________________\n",
      "fire5/squeeze1x1 (Conv2D)        (None, 7, 7, 48)      12336       max_pooling2d_2[0][0]            \n",
      "____________________________________________________________________________________________________\n",
      "fire5/elu_squeeze1x1 (Activation (None, 7, 7, 48)      0           fire5/squeeze1x1[0][0]           \n",
      "____________________________________________________________________________________________________\n",
      "fire5/expand1x1 (Conv2D)         (None, 7, 7, 192)     9408        fire5/elu_squeeze1x1[0][0]       \n",
      "____________________________________________________________________________________________________\n",
      "fire5/expand3x3 (Conv2D)         (None, 7, 7, 192)     83136       fire5/elu_squeeze1x1[0][0]       \n",
      "____________________________________________________________________________________________________\n",
      "fire5/elu_expand1x1 (Activation) (None, 7, 7, 192)     0           fire5/expand1x1[0][0]            \n",
      "____________________________________________________________________________________________________\n",
      "fire5/elu_expand3x3 (Activation) (None, 7, 7, 192)     0           fire5/expand3x3[0][0]            \n",
      "____________________________________________________________________________________________________\n",
      "fire5/concat (Concatenate)       (None, 7, 7, 384)     0           fire5/elu_expand1x1[0][0]        \n",
      "                                                                   fire5/elu_expand3x3[0][0]        \n",
      "____________________________________________________________________________________________________\n",
      "fire6/squeeze1x1 (Conv2D)        (None, 7, 7, 48)      18480       fire5/concat[0][0]               \n",
      "____________________________________________________________________________________________________\n",
      "fire6/elu_squeeze1x1 (Activation (None, 7, 7, 48)      0           fire6/squeeze1x1[0][0]           \n",
      "____________________________________________________________________________________________________\n",
      "fire6/expand1x1 (Conv2D)         (None, 7, 7, 192)     9408        fire6/elu_squeeze1x1[0][0]       \n",
      "____________________________________________________________________________________________________\n",
      "fire6/expand3x3 (Conv2D)         (None, 7, 7, 192)     83136       fire6/elu_squeeze1x1[0][0]       \n",
      "____________________________________________________________________________________________________\n",
      "fire6/elu_expand1x1 (Activation) (None, 7, 7, 192)     0           fire6/expand1x1[0][0]            \n",
      "____________________________________________________________________________________________________\n",
      "fire6/elu_expand3x3 (Activation) (None, 7, 7, 192)     0           fire6/expand3x3[0][0]            \n",
      "____________________________________________________________________________________________________\n",
      "fire6/concat (Concatenate)       (None, 7, 7, 384)     0           fire6/elu_expand1x1[0][0]        \n",
      "                                                                   fire6/elu_expand3x3[0][0]        \n",
      "____________________________________________________________________________________________________\n",
      "max_pooling2d_3 (MaxPooling2D)   (None, 3, 3, 384)     0           fire6/concat[0][0]               \n",
      "____________________________________________________________________________________________________\n",
      "dropout_1 (Dropout)              (None, 3, 3, 384)     0           max_pooling2d_3[0][0]            \n",
      "____________________________________________________________________________________________________\n",
      "conv2d_1 (Conv2D)                (None, 3, 3, 100)     38500       dropout_1[0][0]                  \n",
      "____________________________________________________________________________________________________\n",
      "activation_1 (Activation)        (None, 3, 3, 100)     0           conv2d_1[0][0]                   \n",
      "____________________________________________________________________________________________________\n",
      "global_average_pooling2d_1 (Glob (None, 100)           0           activation_1[0][0]               \n",
      "____________________________________________________________________________________________________\n",
      "loss (Dense)                     (None, 3)             303         global_average_pooling2d_1[0][0] \n",
      "====================================================================================================\n",
      "Total params: 372,355\n",
      "Trainable params: 372,355\n",
      "Non-trainable params: 0\n",
      "____________________________________________________________________________________________________\n"
     ]
    }
   ],
   "source": [
    "def fire_module(x, fire_id, squeeze=16, expand=64): \n",
    "    # Squeeze part with 1x1 conv\n",
    "    x = Conv2D(squeeze, (1, 1), padding='valid', name='fire' + str(fire_id) + '/' + \"squeeze1x1\")(x)\n",
    "    x = Activation('elu', name='fire' + str(fire_id) + '/elu_squeeze1x1')(x)\n",
    "    # Expand part with 1x1 conv\n",
    "    left = Conv2D(expand, (1, 1), padding='valid', name='fire' + str(fire_id) + '/' + \"expand1x1\")(x)\n",
    "    left = Activation('elu', name='fire' + str(fire_id) + '/elu_expand1x1')(left)\n",
    "    # Expand part with 3x3 conv\n",
    "    right = Conv2D(expand, (3, 3), padding='same', name='fire' + str(fire_id) + '/' + \"expand3x3\")(x)\n",
    "    right = Activation('elu', name='fire' + str(fire_id) + '/elu_expand3x3')(right)\n",
    "    # Fuse left and right expansion together\n",
    "    x = concatenate([left, right], axis=3, name='fire' + str(fire_id) + '/' + 'concat')\n",
    "    return x\n",
    "\n",
    "def squeeze_model():\n",
    "    # Shape of our input image is 32x32x3\n",
    "    input_img = Input(shape=(32, 32, 3))\n",
    "    \n",
    "    # This is our normalization from 0 to 1\n",
    "    x = Lambda(lambda x: x/255.0, input_shape=(32, 32, 3))(input_img)\n",
    "    \n",
    "    # Use two fire modules with 16 filter squeeze and 64 filter expand\n",
    "    x = fire_module(x, fire_id=1, squeeze=16, expand=64)\n",
    "    x = fire_module(x, fire_id=2, squeeze=16, expand=64)\n",
    "    x = MaxPooling2D(pool_size=(3, 3), strides=(2, 2))(x)\n",
    "    \n",
    "    # Use two fire modules with 32 filter squeeze and 128 filter expand\n",
    "    x = fire_module(x, fire_id=3, squeeze=32, expand=128)\n",
    "    x = fire_module(x, fire_id=4, squeeze=32, expand=128)\n",
    "    x = MaxPooling2D(pool_size=(3, 3), strides=(2, 2))(x)\n",
    "    \n",
    "    # Use two fire modules with 48 filter squeeze and 192 filter expand\n",
    "    x = fire_module(x, fire_id=5, squeeze=48, expand=192)\n",
    "    x = fire_module(x, fire_id=6, squeeze=48, expand=192)\n",
    "    x = MaxPooling2D(pool_size=(3, 3), strides=(2, 2))(x)\n",
    "    \n",
    "    # Dropout with drop rate 20%\n",
    "    x = Dropout(0.2)(x)  \n",
    "    \n",
    "    # Last conv layer\n",
    "    x = Conv2D(100, (1, 1), padding='valid')(x)\n",
    "    x = Activation('elu')(x)\n",
    "    \n",
    "    # Do a global average pooling\n",
    "    x = GlobalAveragePooling2D()(x)\n",
    "    \n",
    "    # This is our output layer for the three classes with softmax\n",
    "    out = Dense(3, name='loss', activation=\"softmax\")(x)\n",
    "    \n",
    "    # Build our model\n",
    "    model = Model(inputs=input_img, outputs=[out])     \n",
    "    return model\n",
    "\n",
    "model = squeeze_model()\n",
    "model.summary()"
   ]
  },
  {
   "cell_type": "markdown",
   "metadata": {
    "deletable": true,
    "editable": true
   },
   "source": [
    "Train our model and save it to file"
   ]
  },
  {
   "cell_type": "code",
   "execution_count": 6,
   "metadata": {
    "collapsed": false,
    "deletable": true,
    "editable": true
   },
   "outputs": [
    {
     "name": "stdout",
     "output_type": "stream",
     "text": [
      "Train on 1600 samples, validate on 160 samples\n",
      "Epoch 1/50\n",
      "40s - loss: 0.7735 - acc: 0.6806 - val_loss: 0.4573 - val_acc: 0.8063\n",
      "Epoch 2/50\n",
      "36s - loss: 0.2773 - acc: 0.9062 - val_loss: 0.1495 - val_acc: 0.9563\n",
      "Epoch 3/50\n",
      "43s - loss: 0.1664 - acc: 0.9494 - val_loss: 0.1178 - val_acc: 0.9563\n",
      "Epoch 4/50\n",
      "35s - loss: 0.1376 - acc: 0.9606 - val_loss: 0.0952 - val_acc: 0.9750\n",
      "Epoch 5/50\n",
      "34s - loss: 0.1130 - acc: 0.9637 - val_loss: 0.0859 - val_acc: 0.9750\n",
      "Epoch 6/50\n",
      "40s - loss: 0.0875 - acc: 0.9762 - val_loss: 0.0688 - val_acc: 0.9812\n",
      "Epoch 7/50\n",
      "34s - loss: 0.0583 - acc: 0.9825 - val_loss: 0.0647 - val_acc: 0.9750\n",
      "Epoch 8/50\n",
      "36s - loss: 0.0290 - acc: 0.9938 - val_loss: 0.0537 - val_acc: 0.9875\n",
      "Epoch 9/50\n",
      "34s - loss: 0.0208 - acc: 0.9944 - val_loss: 0.0425 - val_acc: 0.9938\n",
      "Epoch 10/50\n",
      "35s - loss: 0.0159 - acc: 0.9956 - val_loss: 0.0444 - val_acc: 0.9875\n",
      "Epoch 11/50\n",
      "37s - loss: 0.0177 - acc: 0.9938 - val_loss: 0.0385 - val_acc: 0.9938\n",
      "Epoch 12/50\n",
      "35s - loss: 0.0283 - acc: 0.9912 - val_loss: 0.0787 - val_acc: 0.9875\n",
      "Epoch 13/50\n",
      "35s - loss: 0.0076 - acc: 0.9988 - val_loss: 0.0435 - val_acc: 0.9938\n",
      "Epoch 14/50\n",
      "39s - loss: 0.0062 - acc: 0.9994 - val_loss: 0.0482 - val_acc: 0.9938\n",
      "Epoch 15/50\n",
      "37s - loss: 0.0028 - acc: 1.0000 - val_loss: 0.0538 - val_acc: 0.9875\n",
      "Epoch 16/50\n",
      "39s - loss: 0.0021 - acc: 1.0000 - val_loss: 0.0579 - val_acc: 0.9875\n",
      "Model trained!\n"
     ]
    }
   ],
   "source": [
    "# Maximum number of epochs for training\n",
    "epochs = 50\n",
    "\n",
    "# Let's train the model using Adam optimizer\n",
    "model.compile(loss='categorical_crossentropy', optimizer=Adam(lr=1e-4), metrics=['accuracy'])\n",
    "\n",
    "# Callbacks for checkpoints, visualisation and early stop\n",
    "check_point = ModelCheckpoint('./checkpoints/model-e{epoch:03d}.h5', monitor='val_loss', verbose=0, save_best_only=False, save_weights_only=False, mode='auto')\n",
    "early_stop = EarlyStopping(monitor='val_loss', patience=4, verbose=0, mode='min')\n",
    "        \n",
    "history = model.fit(x=train_x,y=train_y,verbose=2,batch_size=batch_size,epochs=epochs,\n",
    "                    validation_data = (test_x, test_y), callbacks=[early_stop, check_point])\n",
    "\n",
    "# Save the model to file\n",
    "model.save_weights('./model/model.h5')\n",
    "\n",
    "# Print message\n",
    "print(\"Model trained!\")"
   ]
  },
  {
   "cell_type": "markdown",
   "metadata": {
    "deletable": true,
    "editable": true
   },
   "source": [
    "Show loss and accuracy for training and validation data"
   ]
  },
  {
   "cell_type": "code",
   "execution_count": 7,
   "metadata": {
    "collapsed": false,
    "deletable": true,
    "editable": true
   },
   "outputs": [
    {
     "data": {
      "image/png": "[encoded data removed]",
      "text/plain": [
       "<matplotlib.figure.Figure at 0x15a6d4e4978>"
      ]
     },
     "metadata": {},
     "output_type": "display_data"
    },
    {
     "data": {
      "image/png": "[encoded data removed]",
      "text/plain": [
       "<matplotlib.figure.Figure at 0x15a6d26e6d8>"
      ]
     },
     "metadata": {},
     "output_type": "display_data"
    }
   ],
   "source": [
    "acc = history.history['acc']\n",
    "val_acc = history.history['val_acc']\n",
    "loss = history.history['loss']\n",
    "val_loss = history.history['val_loss']\n",
    "epochs = range(len(acc))\n",
    "plt.plot(epochs, acc, 'bo')\n",
    "plt.plot(epochs, val_acc, 'b')\n",
    "plt.title('Training and validation accuracy')\n",
    "plt.figure()\n",
    "plt.plot(epochs, loss, 'bo')\n",
    "plt.plot(epochs, val_loss, 'b')\n",
    "plt.title('Training and validation loss')\n",
    "plt.show()"
   ]
  },
  {
   "cell_type": "markdown",
   "metadata": {
    "deletable": true,
    "editable": true
   },
   "source": [
    "Load our model"
   ]
  },
  {
   "cell_type": "code",
   "execution_count": 8,
   "metadata": {
    "collapsed": false,
    "deletable": true,
    "editable": true
   },
   "outputs": [
    {
     "name": "stdout",
     "output_type": "stream",
     "text": [
      "Model loaded!\n"
     ]
    }
   ],
   "source": [
    "K.set_learning_phase(0)\n",
    "model = load_model(\"./model/model.h5\")\n",
    "print(\"Model loaded!\")"
   ]
  },
  {
   "cell_type": "markdown",
   "metadata": {
    "deletable": true,
    "editable": true
   },
   "source": [
    "Load a sample real-world test image and do prediction"
   ]
  },
  {
   "cell_type": "code",
   "execution_count": 9,
   "metadata": {
    "collapsed": false,
    "deletable": true,
    "editable": true
   },
   "outputs": [
    {
     "name": "stdout",
     "output_type": "stream",
     "text": [
      "green\n"
     ]
    },
    {
     "data": {
      "image/png": "[encoded data removed]",
      "text/plain": [
       "<matplotlib.figure.Figure at 0x15a6f2dc160>"
      ]
     },
     "metadata": {},
     "output_type": "display_data"
    }
   ],
   "source": [
    "def predict(image):\n",
    "    sfmax = list(model.predict(image, verbose=0)[0])\n",
    "    sf_ind = sfmax.index(max(sfmax))\n",
    "    predicted_label = image_types[sf_ind]\n",
    "    return predicted_label\n",
    "\n",
    "image = test_x[randint(0, len(test_x))]\n",
    "plt.imshow(image)\n",
    "img = np.reshape(image, (1, 32, 32, 3))\n",
    "print(predict(img))"
   ]
  },
  {
   "cell_type": "markdown",
   "metadata": {
    "deletable": true,
    "editable": true
   },
   "source": [
    "Load an image from the simulator and test it there"
   ]
  },
  {
   "cell_type": "code",
   "execution_count": 10,
   "metadata": {
    "collapsed": false,
    "deletable": true,
    "editable": true
   },
   "outputs": [
    {
     "name": "stdout",
     "output_type": "stream",
     "text": [
      "red\n"
     ]
    },
    {
     "data": {
      "image/png": "[encoded data removed]",
      "text/plain": [
       "<matplotlib.figure.Figure at 0x15a6d4e7630>"
      ]
     },
     "metadata": {},
     "output_type": "display_data"
    }
   ],
   "source": [
    "image = cv2.imread(\"./test_images/red_light.jpg\")\n",
    "image = cv2.resize(image, (input_img_x, input_img_y))\n",
    "image = cv2.cvtColor(image, cv2.COLOR_BGR2RGB) \n",
    "plt.imshow(image)\n",
    "img = np.reshape(image, (1, 32, 32, 3))\n",
    "print(predict(img))"
   ]
  },
  {
   "cell_type": "markdown",
   "metadata": {
    "deletable": true,
    "editable": true
   },
   "source": [
    "Convert the Keras model to a TensorFlow model"
   ]
  },
  {
   "cell_type": "code",
   "execution_count": 11,
   "metadata": {
    "collapsed": false,
    "deletable": true,
    "editable": true
   },
   "outputs": [
    {
     "name": "stdout",
     "output_type": "stream",
     "text": [
      "INFO:tensorflow:Froze 40 variables.\n",
      "Converted 40 variables to const ops.\n",
      "Keras model converted to TensorFlow model!\n"
     ]
    }
   ],
   "source": [
    "pred = [None]\n",
    "pred_node_names = [None]\n",
    "pred_node_names[0] = 'output_'+str(0)\n",
    "pred[0] = tf.identity(model.output[0], name=pred_node_names[0])\n",
    "sess = K.get_session()\n",
    "constant_graph = graph_util.convert_variables_to_constants(sess, sess.graph.as_graph_def(), pred_node_names)\n",
    "graph_io.write_graph(constant_graph, 'model', 'model_classification.pb', as_text=False)\n",
    "print('Keras model converted to TensorFlow model!')"
   ]
  },
  {
   "cell_type": "markdown",
   "metadata": {
    "deletable": true,
    "editable": true
   },
   "source": [
    "Load the model into TensorFlow"
   ]
  },
  {
   "cell_type": "code",
   "execution_count": 12,
   "metadata": {
    "collapsed": false,
    "deletable": true,
    "editable": true
   },
   "outputs": [],
   "source": [
    "# Function to load a graph from a protobuf file\n",
    "def load_graph(graph_file):\n",
    "    with tf.Session(graph=tf.Graph(), config=config) as sess:\n",
    "        gd = tf.GraphDef()\n",
    "        with tf.gfile.Open(graph_file, 'rb') as f:\n",
    "            data = f.read()\n",
    "            gd.ParseFromString(data)\n",
    "        tf.import_graph_def(gd, name='')\n",
    "        return sess.graph\n",
    "\n",
    "# Enable optimizations\n",
    "config = tf.ConfigProto()\n",
    "jit_level = tf.OptimizerOptions.ON_1\n",
    "config.graph_options.optimizer_options.global_jit_level = jit_level    \n",
    "\n",
    "# Load graph from protobuf file\n",
    "graph = load_graph(os.path.join('model', 'model_classification.pb'))\n",
    "\n",
    "# Get input and output tensors\n",
    "in_graph = graph.get_tensor_by_name('input_1_1:0')\n",
    "out_graph = graph.get_tensor_by_name('output_0:0')"
   ]
  },
  {
   "cell_type": "markdown",
   "metadata": {
    "deletable": true,
    "editable": true
   },
   "source": [
    "Do prediction on a random image"
   ]
  },
  {
   "cell_type": "code",
   "execution_count": 15,
   "metadata": {
    "collapsed": false,
    "deletable": true,
    "editable": true
   },
   "outputs": [
    {
     "name": "stdout",
     "output_type": "stream",
     "text": [
      "red\n"
     ]
    },
    {
     "data": {
      "image/png": "[encoded data removed]",
      "text/plain": [
       "<matplotlib.figure.Figure at 0x15a70626908>"
      ]
     },
     "metadata": {},
     "output_type": "display_data"
    }
   ],
   "source": [
    "# Pick a random image from the test set\n",
    "image = test_x[randint(0, len(test_x))]\n",
    "plt.imshow(image)\n",
    "\n",
    "# Do the prediction here\n",
    "with tf.Session(graph=graph, config=config) as sess:   \n",
    "    sfmax = list(sess.run(tf.nn.softmax(out_graph.eval(feed_dict={in_graph: [image]}))))\n",
    "    sf_ind = sfmax.index(max(sfmax))\n",
    "    predicted_label = image_types[sf_ind]\n",
    "    print(predicted_label)"
   ]
  },
  {
   "cell_type": "code",
   "execution_count": null,
   "metadata": {
    "collapsed": true,
    "deletable": true,
    "editable": true
   },
   "outputs": [],
   "source": []
  }
 ],
 "metadata": {
  "anaconda-cloud": {},
  "kernelspec": {
   "display_name": "Python 3",
   "language": "python",
   "name": "python3"
  },
  "language_info": {
   "codemirror_mode": {
    "name": "ipython",
    "version": 3
   },
   "file_extension": ".py",
   "mimetype": "text/x-python",
   "name": "python",
   "nbconvert_exporter": "python",
   "pygments_lexer": "ipython3",
   "version": "3.5.2"
  },
  "widgets": {
   "state": {},
   "version": "1.1.2"
  }
 },
 "nbformat": 4,
 "nbformat_minor": 2
}
