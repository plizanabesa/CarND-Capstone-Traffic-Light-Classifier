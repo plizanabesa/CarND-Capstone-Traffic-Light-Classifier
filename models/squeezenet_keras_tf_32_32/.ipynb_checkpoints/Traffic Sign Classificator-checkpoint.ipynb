{
 "cells": [
  {
   "cell_type": "markdown",
   "metadata": {},
   "source": [
    "This is our import section"
   ]
  },
  {
   "cell_type": "code",
   "execution_count": 1,
   "metadata": {
    "collapsed": true
   },
   "outputs": [],
   "source": [
    "import tensorflow as tf\n",
    "import glob\n",
    "import os\n",
    "import cv2\n",
    "import random\n",
    "import math\n",
    "import sys\n",
    "import numpy as np\n",
    "from matplotlib import pyplot as plt\n",
    "from random import randint\n",
    "\n",
    "# This is needed to display the images.\n",
    "%matplotlib inline"
   ]
  },
  {
   "cell_type": "markdown",
   "metadata": {},
   "source": [
    "Some basic configuration"
   ]
  },
  {
   "cell_type": "code",
   "execution_count": 2,
   "metadata": {
    "collapsed": true
   },
   "outputs": [],
   "source": [
    "# Configuration\n",
    "image_types = [\"red\", \"green\", \"yellow\"]\n",
    "input_img_x = 32\n",
    "input_img_y = 32\n",
    "train_test_split_ratio = 0.9\n",
    "epochs = 50\n",
    "batch_size = 32\n",
    "\n",
    "# Input and output\n",
    "x = tf.placeholder(tf.float32, shape=[None, input_img_x, input_img_y, 3])\n",
    "y_ = tf.placeholder(tf.float32, shape=[None, len(image_types)])"
   ]
  },
  {
   "cell_type": "markdown",
   "metadata": {},
   "source": [
    "Build our model here"
   ]
  },
  {
   "cell_type": "code",
   "execution_count": 3,
   "metadata": {
    "collapsed": false
   },
   "outputs": [],
   "source": [
    "# Helper layer functions\n",
    "def weight_variable(shape):\n",
    "    initial = tf.truncated_normal(shape, stddev=0.1)\n",
    "    return tf.Variable(initial)\n",
    "\n",
    "def bias_variable(shape):\n",
    "    initial = tf.constant(0.1, shape=shape)\n",
    "    return tf.Variable(initial)\n",
    "\n",
    "def conv2d(x, W, stride):\n",
    "    return tf.nn.conv2d(x, W, strides=[1, stride, stride, 1], padding='SAME')\n",
    "\n",
    "def max_pool_2x2(x):\n",
    "    return tf.nn.max_pool(x, ksize=[1, 2, 2, 1],\n",
    "                        strides=[1, 2, 2, 1], padding='SAME')\n",
    "\n",
    "# Our first convolutional layer of 16 3x3 filters\n",
    "W_conv1 = weight_variable([3, 3, 3, 16])\n",
    "b_conv1 = bias_variable([16])\n",
    "h_conv1 = tf.nn.relu(conv2d(x, W_conv1, 1) + b_conv1)\n",
    "\n",
    "# Our second convolutional layer of 16 3x3 filters\n",
    "W_conv2 = weight_variable([3, 3, 16, 16])\n",
    "b_conv2 = bias_variable([16])\n",
    "h_conv2 = tf.nn.relu(conv2d(h_conv1, W_conv2, 1) + b_conv2)\n",
    "\n",
    "# Our third convolutional layer of 16 3x3 filters\n",
    "W_conv3 = weight_variable([3, 3, 16, 16])\n",
    "b_conv3 = bias_variable([16])\n",
    "h_conv3 = tf.nn.relu(conv2d(h_conv2, W_conv3, 1) + b_conv3)\n",
    "\n",
    "# Do max-pooling\n",
    "h_pool4 = max_pool_2x2(h_conv3)\n",
    "n1, n2, n3, n4 = h_pool4.get_shape().as_list()\n",
    "W_fc1 = weight_variable([n2*n3*n4, 3])\n",
    "b_fc1 = bias_variable([3])\n",
    "\n",
    "# We flatten our pool layer into a fully connected layer\n",
    "h_pool4_flat = tf.reshape(h_pool4, [-1, n2*n3*n4])\n",
    "\n",
    "# This is our output with the three classes\n",
    "y = tf.matmul(h_pool4_flat, W_fc1) + b_fc1"
   ]
  },
  {
   "cell_type": "markdown",
   "metadata": {},
   "source": [
    "Loss, optimizer and initialization"
   ]
  },
  {
   "cell_type": "code",
   "execution_count": 4,
   "metadata": {
    "collapsed": true
   },
   "outputs": [],
   "source": [
    "# Create a new session\n",
    "sess = tf.InteractiveSession()\n",
    "\n",
    "# Use softmax cross-entropy with logits as loss function\n",
    "loss = tf.reduce_mean(tf.nn.softmax_cross_entropy_with_logits(logits=y, labels=y_))\n",
    "\n",
    "# Use adam with learning rate 0.0001 as optimizer\n",
    "train_step = tf.train.AdamOptimizer(1e-4).minimize(loss)\n",
    "\n",
    "# Initialize all variables\n",
    "sess.run(tf.global_variables_initializer())"
   ]
  },
  {
   "cell_type": "markdown",
   "metadata": {},
   "source": [
    "Load traffic light dataset from files and shuffle it"
   ]
  },
  {
   "cell_type": "code",
   "execution_count": 5,
   "metadata": {
    "collapsed": false
   },
   "outputs": [],
   "source": [
    "full_set = []\n",
    "for im_type in image_types:\n",
    "    for ex in glob.glob(os.path.join(\"dataset/\", im_type, \"*\")):\n",
    "        im = cv2.imread(ex)\n",
    "        if not im is None:\n",
    "            # Resize image\n",
    "            im = cv2.resize(im, (input_img_x, input_img_y))\n",
    "\n",
    "            # Convert to RGB\n",
    "            im = cv2.cvtColor(im, cv2.COLOR_RGB2BGR) \n",
    "            \n",
    "            # Create an array representing our classes and set it\n",
    "            one_hot_array = [0] * len(image_types)\n",
    "            one_hot_array[image_types.index(im_type)] = 1\n",
    "            assert(im.shape == (input_img_x, input_img_y, 3))\n",
    "\n",
    "            # Add it to our set\n",
    "            full_set.append((im, one_hot_array, ex))\n",
    "\n",
    "# Shuffle the data\n",
    "random.shuffle(full_set)"
   ]
  },
  {
   "cell_type": "markdown",
   "metadata": {},
   "source": [
    "Create train / validation set with predefined split"
   ]
  },
  {
   "cell_type": "code",
   "execution_count": 6,
   "metadata": {
    "collapsed": false
   },
   "outputs": [],
   "source": [
    "# We split our data into a training and test set here\n",
    "split_index = int(math.floor(len(full_set) * train_test_split_ratio))\n",
    "train_set = full_set[:split_index]\n",
    "test_set = full_set[split_index:]\n",
    "\n",
    "# We ensure that our training and test sets are a multiple of batch size\n",
    "train_set_offset = len(train_set) % batch_size\n",
    "test_set_offset = len(test_set) % batch_size\n",
    "train_set = train_set[: len(train_set) - train_set_offset]\n",
    "test_set = test_set[: len(test_set) - test_set_offset]\n",
    "\n",
    "train_x, train_y, train_z = zip(*train_set)\n",
    "test_x, test_y, test_z = zip(*test_set)"
   ]
  },
  {
   "cell_type": "markdown",
   "metadata": {},
   "source": [
    "Train our neural network"
   ]
  },
  {
   "cell_type": "code",
   "execution_count": 7,
   "metadata": {
    "collapsed": false
   },
   "outputs": [
    {
     "name": "stdout",
     "output_type": "stream",
     "text": [
      "Starting training... [1312 training examples]\n",
      "Epoch     1: loss:    8.5917139053, val. loss:    9.8821258545, saving new best model to ./model/model_classification.ckpt\n",
      "Epoch     2: loss:    4.4265995026, val. loss:    6.0461769104, saving new best model to ./model/model_classification.ckpt\n",
      "Epoch     3: loss:    1.9310842752, val. loss:    3.8682405949, saving new best model to ./model/model_classification.ckpt\n",
      "Epoch     4: loss:    0.9335998893, val. loss:    3.5054795742, saving new best model to ./model/model_classification.ckpt\n",
      "Epoch     5: loss:    0.5498634577, val. loss:    2.6588649750, saving new best model to ./model/model_classification.ckpt\n",
      "Epoch     6: loss:    0.3957276642, val. loss:    2.3907012939, saving new best model to ./model/model_classification.ckpt\n",
      "Epoch     7: loss:    0.2824176550, val. loss:    2.0910637379, saving new best model to ./model/model_classification.ckpt\n",
      "Epoch     8: loss:    0.2411591411, val. loss:    1.9644572735, saving new best model to ./model/model_classification.ckpt\n",
      "Epoch     9: loss:    0.2047373652, val. loss:    1.8506011963, saving new best model to ./model/model_classification.ckpt\n",
      "Epoch    10: loss:    0.1825038344, val. loss:    1.7362799644, saving new best model to ./model/model_classification.ckpt\n",
      "Epoch    11: loss:    0.1572705954, val. loss:    1.6360392570, saving new best model to ./model/model_classification.ckpt\n",
      "Epoch    12: loss:    0.1381791085, val. loss:    1.5988712311, saving new best model to ./model/model_classification.ckpt\n",
      "Epoch    13: loss:    0.1194269583, val. loss:    1.5052835941, saving new best model to ./model/model_classification.ckpt\n",
      "Epoch    14: loss:    0.1203946248, val. loss:    1.4435346127, saving new best model to ./model/model_classification.ckpt\n",
      "Epoch    15: loss:    0.0860809013, val. loss:    1.3299649954, saving new best model to ./model/model_classification.ckpt\n",
      "Epoch    16: loss:    0.0778333172, val. loss:    1.2997293472, saving new best model to ./model/model_classification.ckpt\n",
      "Epoch    17: loss:    0.0587086082, val. loss:    1.2375777960, saving new best model to ./model/model_classification.ckpt\n",
      "Epoch    18: loss:    0.0680916458, val. loss:    1.1306817532, saving new best model to ./model/model_classification.ckpt\n",
      "Epoch    19: loss:    0.0614682510, val. loss:    1.2310047150\n",
      "Epoch    20: loss:    0.0496415496, val. loss:    1.0178304911, saving new best model to ./model/model_classification.ckpt\n",
      "Epoch    21: loss:    0.0407261886, val. loss:    1.0835952759\n",
      "Epoch    22: loss:    0.0368179455, val. loss:    0.9900483489, saving new best model to ./model/model_classification.ckpt\n",
      "Epoch    23: loss:    0.0379344299, val. loss:    0.9685590863, saving new best model to ./model/model_classification.ckpt\n",
      "Epoch    24: loss:    0.0317428336, val. loss:    0.9045379162, saving new best model to ./model/model_classification.ckpt\n",
      "Epoch    25: loss:    0.0164732803, val. loss:    0.8796743751, saving new best model to ./model/model_classification.ckpt\n",
      "Epoch    26: loss:    0.0223206561, val. loss:    0.8847421408\n",
      "Epoch    27: loss:    0.0187778473, val. loss:    0.8607144356, saving new best model to ./model/model_classification.ckpt\n",
      "Epoch    28: loss:    0.0221621916, val. loss:    0.8422887325, saving new best model to ./model/model_classification.ckpt\n",
      "Epoch    29: loss:    0.0203427281, val. loss:    0.8065149188, saving new best model to ./model/model_classification.ckpt\n",
      "Epoch    30: loss:    0.0089958860, val. loss:    0.8873744011\n",
      "Epoch    31: loss:    0.0160380900, val. loss:    0.8720647097\n",
      "Epoch    32: loss:    0.0098089240, val. loss:    0.8084356189\n",
      "Epoch    33: loss:    0.0293884166, val. loss:    0.8146836162\n",
      "Epoch    34: loss:    0.0101809101, val. loss:    0.7919739485, saving new best model to ./model/model_classification.ckpt\n",
      "Epoch    35: loss:    0.0061251051, val. loss:    0.7882086635, saving new best model to ./model/model_classification.ckpt\n",
      "Epoch    36: loss:    0.0046436763, val. loss:    0.7878718376, saving new best model to ./model/model_classification.ckpt\n",
      "Epoch    37: loss:    0.0057312534, val. loss:    0.7847575545, saving new best model to ./model/model_classification.ckpt\n",
      "Epoch    38: loss:    0.0035123872, val. loss:    0.7523165941, saving new best model to ./model/model_classification.ckpt\n",
      "Epoch    39: loss:    0.0061696572, val. loss:    0.7359172106, saving new best model to ./model/model_classification.ckpt\n",
      "Epoch    40: loss:    0.0058282088, val. loss:    0.7454094291\n",
      "Epoch    41: loss:    0.0028633338, val. loss:    0.7016574144, saving new best model to ./model/model_classification.ckpt\n",
      "Epoch    42: loss:    0.0017337346, val. loss:    0.7169079781\n",
      "Epoch    43: loss:    0.0032376628, val. loss:    0.7070486546\n",
      "Epoch    44: loss:    0.0049375850, val. loss:    0.7923268080\n",
      "Epoch    45: loss:    0.0006801143, val. loss:    0.7304282188\n",
      "Epoch    46: loss:    0.0089423442, val. loss:    0.6840218306, saving new best model to ./model/model_classification.ckpt\n",
      "Epoch    47: loss:    0.0061246920, val. loss:    0.6611858010, saving new best model to ./model/model_classification.ckpt\n",
      "Epoch    48: loss:    0.0018387277, val. loss:    0.7135232687\n",
      "Epoch    49: loss:    0.0013961715, val. loss:    0.6579396129, saving new best model to ./model/model_classification.ckpt\n",
      "Epoch    50: loss:    0.0019403648, val. loss:    0.6231274605, saving new best model to ./model/model_classification.ckpt\n"
     ]
    }
   ],
   "source": [
    "print(\"Starting training... [{} training examples]\".format(len(train_x)))\n",
    "\n",
    "v_loss = least_loss = 99999999\n",
    "checkpoint_name = \"./model/model_classification.ckpt\"\n",
    "train_loss = []\n",
    "val_loss = []\n",
    "saver = tf.train.Saver()\n",
    "\n",
    "# Iterate over the epochs\n",
    "for i in range(0, epochs):\n",
    "    \n",
    "    # Iterate over our training set\n",
    "    for tt in range(0, int((len(train_x) / batch_size))):\n",
    "        start_batch = batch_size * tt\n",
    "        end_batch = batch_size * (tt + 1)\n",
    "        train_step.run(feed_dict={x: train_x[start_batch:end_batch], y_: train_y[start_batch:end_batch]})\n",
    "        ex_seen = \"Current epoch, examples seen: {:20} / {} \\r\".format(tt * batch_size, len(train_x))\n",
    "        sys.stdout.write(ex_seen.format(tt * batch_size))\n",
    "        sys.stdout.flush()\n",
    "\n",
    "    ex_seen = \"Current epoch, examples seen: {:20} / {} \\r\".format((tt + 1) * batch_size, len(train_x))\n",
    "    sys.stdout.write(ex_seen.format(tt * batch_size))\n",
    "    sys.stdout.flush()\n",
    "\n",
    "    t_loss = loss.eval(feed_dict={x: train_x, y_: train_y})\n",
    "    v_loss = loss.eval(feed_dict={x: test_x, y_: test_y})\n",
    "    \n",
    "    train_loss.append(t_loss)\n",
    "    val_loss.append(v_loss)\n",
    "\n",
    "    sys.stdout.write(\"Epoch {:5}: loss: {:15.10f}, val. loss: {:15.10f}\".format(i + 1, t_loss, v_loss))\n",
    "\n",
    "    if v_loss < least_loss:\n",
    "        sys.stdout.write(\", saving new best model to {}\".format(checkpoint_name))\n",
    "        least_loss = v_loss\n",
    "        filename = saver.save(sess, checkpoint_name)\n",
    "\n",
    "    sys.stdout.write(\"\\n\")"
   ]
  },
  {
   "cell_type": "markdown",
   "metadata": {},
   "source": [
    "Show training and validation loss"
   ]
  },
  {
   "cell_type": "code",
   "execution_count": 12,
   "metadata": {
    "collapsed": false
   },
   "outputs": [
    {
     "data": {
      "image/png": "[encoded data removed]",
      "text/plain": [
       "<matplotlib.figure.Figure at 0x2ad00464940>"
      ]
     },
     "metadata": {},
     "output_type": "display_data"
    }
   ],
   "source": [
    "plt.figure(figsize=(16, 6))\n",
    "plt.xticks(np.arange(0, len(train_loss), 1.0))\n",
    "plt.ylabel(\"Loss\")\n",
    "plt.xlabel(\"Epochs\")\n",
    "train_line = plt.plot(range(0, len(train_loss)), train_loss, 'r', label=\"Train loss\")\n",
    "val_line = plt.plot(range(0, len(val_loss)), val_loss, 'g', label=\"Validation loss\")\n",
    "plt.legend()\n",
    "plt.show()"
   ]
  },
  {
   "cell_type": "markdown",
   "metadata": {},
   "source": [
    "Restore the model and weights from file"
   ]
  },
  {
   "cell_type": "code",
   "execution_count": 13,
   "metadata": {
    "collapsed": false
   },
   "outputs": [
    {
     "name": "stdout",
     "output_type": "stream",
     "text": [
      "INFO:tensorflow:Restoring parameters from model/model_classification.ckpt\n"
     ]
    }
   ],
   "source": [
    "saver = tf.train.import_meta_graph('model/model_classification.ckpt.meta')\n",
    "saver.restore(sess,tf.train.latest_checkpoint('model/'))\n",
    "graph = tf.get_default_graph()"
   ]
  },
  {
   "cell_type": "markdown",
   "metadata": {},
   "source": [
    "Load a test image and do prediction"
   ]
  },
  {
   "cell_type": "code",
   "execution_count": 32,
   "metadata": {
    "collapsed": false
   },
   "outputs": [
    {
     "name": "stdout",
     "output_type": "stream",
     "text": [
      "red\n"
     ]
    },
    {
     "data": {
      "image/png": "[encoded data removed]",
      "text/plain": [
       "<matplotlib.figure.Figure at 0x2ad02f8bdd8>"
      ]
     },
     "metadata": {},
     "output_type": "display_data"
    }
   ],
   "source": [
    "def predict(image):\n",
    "    sfmax = list(sess.run(tf.nn.softmax(y.eval(feed_dict={x: [image]})))[0])\n",
    "    sf_ind = sfmax.index(max(sfmax))\n",
    "    predicted_label = image_types[sf_ind]\n",
    "    return predicted_label\n",
    "\n",
    "image = test_x[randint(0, len(test_x))]\n",
    "plt.imshow(image)\n",
    "print(predict(image))"
   ]
  },
  {
   "cell_type": "code",
   "execution_count": null,
   "metadata": {
    "collapsed": true
   },
   "outputs": [],
   "source": []
  }
 ],
 "metadata": {
  "anaconda-cloud": {},
  "kernelspec": {
   "display_name": "Python [conda env:carnd-term1]",
   "language": "python",
   "name": "conda-env-carnd-term1-py"
  },
  "language_info": {
   "codemirror_mode": {
    "name": "ipython",
    "version": 3
   },
   "file_extension": ".py",
   "mimetype": "text/x-python",
   "name": "python",
   "nbconvert_exporter": "python",
   "pygments_lexer": "ipython3",
   "version": "3.5.2"
  }
 },
 "nbformat": 4,
 "nbformat_minor": 2
}
